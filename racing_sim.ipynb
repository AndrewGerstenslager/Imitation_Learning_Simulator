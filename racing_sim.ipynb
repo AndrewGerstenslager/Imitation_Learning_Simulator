{
 "cells": [
  {
   "cell_type": "code",
   "execution_count": 1,
   "metadata": {},
   "outputs": [
    {
     "name": "stdout",
     "output_type": "stream",
     "text": [
      "pygame 2.5.2 (SDL 2.28.3, Python 3.8.5)"
     ]
    },
    {
     "name": "stderr",
     "output_type": "stream",
     "text": [
      "c:\\Users\\andre\\anaconda3\\lib\\site-packages\\numpy\\_distributor_init.py:30: UserWarning: loaded more than 1 DLL from .libs:\n",
      "c:\\Users\\andre\\anaconda3\\lib\\site-packages\\numpy\\.libs\\libopenblas.EL2C6PLE4ZYW3ECEVIV3OXXGRN2NRFM2.gfortran-win_amd64.dll\n",
      "c:\\Users\\andre\\anaconda3\\lib\\site-packages\\numpy\\.libs\\libopenblas.NOIJJG62EMASZI6NYURL6JBKM4EVBGM7.gfortran-win_amd64.dll\n",
      "  warnings.warn(\"loaded more than 1 DLL from .libs:\"\n"
     ]
    },
    {
     "name": "stdout",
     "output_type": "stream",
     "text": [
      "\n",
      "Hello from the pygame community. https://www.pygame.org/contribute.html\n",
      "I key was pressed!\n",
      "I key was pressed!\n",
      "I key was pressed!\n",
      "I key was pressed!\n",
      "I key was pressed!\n",
      "I key was pressed!\n",
      "I key was pressed!\n"
     ]
    },
    {
     "ename": "SystemExit",
     "evalue": "",
     "output_type": "error",
     "traceback": [
      "An exception has occurred, use %tb to see the full traceback.\n",
      "\u001b[1;31mSystemExit\u001b[0m\n"
     ]
    },
    {
     "name": "stderr",
     "output_type": "stream",
     "text": [
      "c:\\Users\\andre\\anaconda3\\lib\\site-packages\\IPython\\core\\interactiveshell.py:3259: UserWarning: To exit: use 'exit', 'quit', or Ctrl-D.\n",
      "  warn(\"To exit: use 'exit', 'quit', or Ctrl-D.\", stacklevel=1)\n"
     ]
    }
   ],
   "source": [
    "import pygame\n",
    "import sys\n",
    "\n",
    "# Initialize pygame\n",
    "pygame.init()\n",
    "\n",
    "# Constants\n",
    "WIDTH = 800\n",
    "HEIGHT = 600\n",
    "CAR_WIDTH = 50\n",
    "CAR_HEIGHT = 70\n",
    "\n",
    "# Colors\n",
    "WHITE = (255, 255, 255)\n",
    "RED = (255, 0, 0)\n",
    "\n",
    "# Set up display\n",
    "screen = pygame.display.set_mode((WIDTH, HEIGHT))\n",
    "pygame.display.set_caption(\"Simple Racing Sim\")\n",
    "\n",
    "# Load a basic car image or use a filled rectangle as car\n",
    "# car_image = pygame.image.load('path_to_car_image.png')  # If you have a car image\n",
    "car = pygame.Rect(WIDTH // 2, HEIGHT // 2, CAR_WIDTH, CAR_HEIGHT)\n",
    "\n",
    "# Speed and direction\n",
    "speed = 5\n",
    "\n",
    "def draw_car():\n",
    "    # If using an image:\n",
    "    # screen.blit(car_image, (car.x, car.y))\n",
    "\n",
    "    # Using a rectangle as car:\n",
    "    pygame.draw.rect(screen, RED, car)\n",
    "\n",
    "def handle_movement(keys):\n",
    "    if keys[pygame.K_w]:\n",
    "        car.y -= speed\n",
    "    if keys[pygame.K_s]:\n",
    "        car.y += speed\n",
    "    if keys[pygame.K_a]:\n",
    "        car.x -= speed\n",
    "    if keys[pygame.K_d]:\n",
    "        car.x += speed\n",
    "\n",
    "def handle_keydown_event(event):\n",
    "    if event.key == pygame.K_i:\n",
    "        perform_action()\n",
    "\n",
    "def perform_action():\n",
    "    print(\"I key was pressed!\")\n",
    "\n",
    "\n",
    "def main():\n",
    "    clock = pygame.time.Clock()\n",
    "\n",
    "    while True:\n",
    "        for event in pygame.event.get():\n",
    "            if event.type == pygame.QUIT:\n",
    "                pygame.quit()\n",
    "                sys.exit()\n",
    "            elif event.type == pygame.KEYDOWN:\n",
    "                handle_keydown_event(event)\n",
    "\n",
    "        keys = pygame.key.get_pressed()\n",
    "        handle_movement(keys)\n",
    "\n",
    "        # Drawing\n",
    "        screen.fill(WHITE)\n",
    "        draw_car()\n",
    "\n",
    "        pygame.display.flip()\n",
    "        clock.tick(60)\n",
    "\n",
    "if __name__ == \"__main__\":\n",
    "    main()\n"
   ]
  },
  {
   "cell_type": "code",
   "execution_count": null,
   "metadata": {},
   "outputs": [],
   "source": []
  }
 ],
 "metadata": {
  "kernelspec": {
   "display_name": "base",
   "language": "python",
   "name": "python3"
  },
  "language_info": {
   "codemirror_mode": {
    "name": "ipython",
    "version": 3
   },
   "file_extension": ".py",
   "mimetype": "text/x-python",
   "name": "python",
   "nbconvert_exporter": "python",
   "pygments_lexer": "ipython3",
   "version": "3.8.5"
  },
  "orig_nbformat": 4
 },
 "nbformat": 4,
 "nbformat_minor": 2
}
